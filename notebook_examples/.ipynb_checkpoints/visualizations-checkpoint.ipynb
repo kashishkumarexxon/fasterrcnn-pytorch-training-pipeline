{
 "cells": [
  {
   "cell_type": "markdown",
   "metadata": {
    "application/vnd.databricks.v1+cell": {
     "cellMetadata": {},
     "inputWidgets": {},
     "nuid": "e78e7fb7-987b-4ff1-9387-8a6d6593c22f",
     "showTitle": false,
     "title": ""
    }
   },
   "source": [
    "## Notebook for Data Annotation Visualization\n",
    "\n",
    "A simple notebook for visualizing ground truth data with the annotated bounding booxes.\n",
    "\n",
    "Change the image and annotation path as per your dataset directory path."
   ]
  },
  {
   "cell_type": "code",
   "execution_count": 0,
   "metadata": {
    "application/vnd.databricks.v1+cell": {
     "cellMetadata": {},
     "inputWidgets": {},
     "nuid": "d89ae19a-55f6-474b-abdb-444c00c568b2",
     "showTitle": false,
     "title": ""
    }
   },
   "outputs": [],
   "source": [
    "import os\n",
    "import cv2\n",
    "import matplotlib.pyplot as plt\n",
    "import glob as glob\n",
    "\n",
    "from xml.etree import ElementTree as et"
   ]
  },
  {
   "cell_type": "code",
   "execution_count": 0,
   "metadata": {
    "application/vnd.databricks.v1+cell": {
     "cellMetadata": {},
     "inputWidgets": {},
     "nuid": "07ee045c-fbe6-454b-8ef9-918a05eb82e8",
     "showTitle": false,
     "title": ""
    }
   },
   "outputs": [],
   "source": [
    "image_paths = os.path.join(\n",
    "    '..',\n",
    "    '..',\n",
    "    'input', \n",
    "    'smoke_pascal_voc',\n",
    "    'archive',\n",
    "    'train',\n",
    "    'images'\n",
    ")\n",
    "annotation_paths = os.path.join(\n",
    "    '..',\n",
    "    '..',\n",
    "    'input', \n",
    "    'smoke_pascal_voc',\n",
    "    'archive',\n",
    "    'train',\n",
    "    'annotations'\n",
    ")"
   ]
  },
  {
   "cell_type": "code",
   "execution_count": 0,
   "metadata": {
    "application/vnd.databricks.v1+cell": {
     "cellMetadata": {},
     "inputWidgets": {},
     "nuid": "1749506f-0a5f-44ff-bff2-c7f9393da399",
     "showTitle": false,
     "title": ""
    }
   },
   "outputs": [],
   "source": [
    "images = glob.glob(os.path.join(image_paths, '*'))\n",
    "annotations = glob.glob(os.path.join(annotation_paths, '*'))\n",
    "\n",
    "images.sort()\n",
    "annotations.sort()"
   ]
  },
  {
   "cell_type": "code",
   "execution_count": 0,
   "metadata": {
    "application/vnd.databricks.v1+cell": {
     "cellMetadata": {},
     "inputWidgets": {},
     "nuid": "1f84becb-924b-4e8f-bc90-1a1275bd784f",
     "showTitle": false,
     "title": ""
    }
   },
   "outputs": [],
   "source": [
    "def read_annotations(xml_path):\n",
    "    tree = et.parse(xml_path)\n",
    "    root = tree.getroot()\n",
    "    \n",
    "    boxes = []\n",
    "\n",
    "    # Get the height and width of the image.\n",
    "    image_width = image.shape[1]\n",
    "    image_height = image.shape[0]\n",
    "\n",
    "    # Box coordinates for xml files are extracted and corrected for image size given.\n",
    "    for member in root.findall('object'):\n",
    "        # xmin = left corner x-coordinates\n",
    "        xmin = int(member.find('bndbox').find('xmin').text)\n",
    "        # xmax = right corner x-coordinates\n",
    "        xmax = int(member.find('bndbox').find('xmax').text)\n",
    "        # ymin = left corner y-coordinates\n",
    "        ymin = int(member.find('bndbox').find('ymin').text)\n",
    "        # ymax = right corner y-coordinates\n",
    "        ymax = int(member.find('bndbox').find('ymax').text)\n",
    "        \n",
    "        boxes.append([xmin, ymin, xmax, ymax])\n",
    "    return boxes"
   ]
  },
  {
   "cell_type": "code",
   "execution_count": 0,
   "metadata": {
    "application/vnd.databricks.v1+cell": {
     "cellMetadata": {},
     "inputWidgets": {},
     "nuid": "90f1e606-0160-47e0-b7f9-d39583cc6b5f",
     "showTitle": false,
     "title": ""
    },
    "scrolled": false
   },
   "outputs": [],
   "source": [
    "for i, image_path in enumerate(images):\n",
    "    image = cv2.imread(image_path)\n",
    "    xml_path = annotations[i]\n",
    "    boxes = read_annotations(xml_path)\n",
    "    \n",
    "    for box in boxes:\n",
    "        xmin = box[0]\n",
    "        ymin = box[1]\n",
    "        xmax = box[2]\n",
    "        ymax = box[3]\n",
    "        cv2.rectangle(\n",
    "            image, \n",
    "            (int(xmin), int(ymin)),\n",
    "            (int(xmax), int(ymax)),\n",
    "            color=(255, 0, 0),\n",
    "            thickness=2,\n",
    "            lineType=cv2.LINE_AA\n",
    "        )\n",
    "        cv2.putText(\n",
    "            image,\n",
    "            text='smoke',\n",
    "            org=(int(xmin), int(ymin-5)),\n",
    "            fontFace=cv2.FONT_HERSHEY_SIMPLEX,\n",
    "            fontScale=0.6,\n",
    "            color=(255, 0, 0),\n",
    "            thickness=1,\n",
    "            lineType=cv2.LINE_AA\n",
    "        )\n",
    "    plt.figure(figsize=(7, 5))\n",
    "    plt.imshow(image[:, :, ::-1])\n",
    "    plt.axis('off')\n",
    "    plt.show()\n",
    "    if i == 1:\n",
    "        break"
   ]
  },
  {
   "cell_type": "code",
   "execution_count": 0,
   "metadata": {
    "application/vnd.databricks.v1+cell": {
     "cellMetadata": {},
     "inputWidgets": {},
     "nuid": "42643022-26f0-4a25-bf6f-8f9e56beda60",
     "showTitle": false,
     "title": ""
    }
   },
   "outputs": [],
   "source": []
  },
  {
   "cell_type": "code",
   "execution_count": 0,
   "metadata": {
    "application/vnd.databricks.v1+cell": {
     "cellMetadata": {},
     "inputWidgets": {},
     "nuid": "df8bc370-bcae-4a2e-8f53-f4c53505b240",
     "showTitle": false,
     "title": ""
    }
   },
   "outputs": [],
   "source": []
  },
  {
   "cell_type": "code",
   "execution_count": 0,
   "metadata": {
    "application/vnd.databricks.v1+cell": {
     "cellMetadata": {},
     "inputWidgets": {},
     "nuid": "98a4859e-6ddf-4089-a5af-a774e2c8975b",
     "showTitle": false,
     "title": ""
    }
   },
   "outputs": [],
   "source": []
  }
 ],
 "metadata": {
  "application/vnd.databricks.v1+notebook": {
   "dashboards": [],
   "language": "python",
   "notebookMetadata": {},
   "notebookName": "visualizations-checkpoint",
   "widgets": {}
  },
  "kernelspec": {
   "display_name": "Python 3 (ipykernel)",
   "language": "python",
   "name": "python3"
  },
  "language_info": {
   "codemirror_mode": {
    "name": "ipython",
    "version": 3
   },
   "file_extension": ".py",
   "mimetype": "text/x-python",
   "name": "python",
   "nbconvert_exporter": "python",
   "pygments_lexer": "ipython3",
   "version": "3.10.6"
  }
 },
 "nbformat": 4,
 "nbformat_minor": 0
}
