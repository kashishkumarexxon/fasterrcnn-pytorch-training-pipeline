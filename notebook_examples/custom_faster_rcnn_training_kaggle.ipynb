{
 "cells": [
  {
   "cell_type": "markdown",
   "metadata": {
    "application/vnd.databricks.v1+cell": {
     "cellMetadata": {},
     "inputWidgets": {},
     "nuid": "9b2ec2ee-1720-4935-a511-651cba11c045",
     "showTitle": false,
     "title": ""
    },
    "id": "4sjTjpNnhwoA",
    "papermill": {
     "duration": 0.015111,
     "end_time": "2022-05-21T10:46:17.402409",
     "exception": false,
     "start_time": "2022-05-21T10:46:17.387298",
     "status": "completed"
    },
    "tags": []
   },
   "source": [
    "## Clone the Repository"
   ]
  },
  {
   "cell_type": "code",
   "execution_count": 0,
   "metadata": {
    "application/vnd.databricks.v1+cell": {
     "cellMetadata": {},
     "inputWidgets": {},
     "nuid": "ab1a7741-ca58-4fa0-a722-76e19b8234d2",
     "showTitle": false,
     "title": ""
    },
    "execution": {
     "iopub.execute_input": "2023-01-07T00:46:18.279571Z",
     "iopub.status.busy": "2023-01-07T00:46:18.279158Z",
     "iopub.status.idle": "2023-01-07T00:46:21.344902Z",
     "shell.execute_reply": "2023-01-07T00:46:21.343436Z",
     "shell.execute_reply.started": "2023-01-07T00:46:18.279487Z"
    },
    "id": "hqJgchTOh3Os",
    "outputId": "d97d0e09-b2fe-434b-e514-42733d681a12",
    "papermill": {
     "duration": 2.119194,
     "end_time": "2022-05-21T10:46:19.535472",
     "exception": false,
     "start_time": "2022-05-21T10:46:17.416278",
     "status": "completed"
    },
    "tags": []
   },
   "outputs": [],
   "source": [
    "!git clone https://github.com/sovit-123/fastercnn-pytorch-training-pipeline.git"
   ]
  },
  {
   "cell_type": "markdown",
   "metadata": {
    "application/vnd.databricks.v1+cell": {
     "cellMetadata": {},
     "inputWidgets": {},
     "nuid": "15fdfa07-3f2a-4133-9a0c-2ef17bd919ba",
     "showTitle": false,
     "title": ""
    },
    "papermill": {
     "duration": 0.015335,
     "end_time": "2022-05-21T10:46:19.567267",
     "exception": false,
     "start_time": "2022-05-21T10:46:19.551932",
     "status": "completed"
    },
    "tags": []
   },
   "source": [
    "We will execute all the code within the cloned project directory, that is `fastercnn-pytorch-training-pipeline`."
   ]
  },
  {
   "cell_type": "code",
   "execution_count": 0,
   "metadata": {
    "application/vnd.databricks.v1+cell": {
     "cellMetadata": {},
     "inputWidgets": {},
     "nuid": "6f15b5ef-d5c8-4b04-b5f2-d2e1e0ce0c00",
     "showTitle": false,
     "title": ""
    },
    "execution": {
     "iopub.execute_input": "2023-01-07T00:46:21.349268Z",
     "iopub.status.busy": "2023-01-07T00:46:21.348607Z",
     "iopub.status.idle": "2023-01-07T00:46:21.357625Z",
     "shell.execute_reply": "2023-01-07T00:46:21.356340Z",
     "shell.execute_reply.started": "2023-01-07T00:46:21.349230Z"
    },
    "id": "ZrgajbVrh6x9",
    "outputId": "1345eaf7-5721-4a0f-f4bf-1c1287bf4d1a",
    "papermill": {
     "duration": 0.025302,
     "end_time": "2022-05-21T10:46:19.607921",
     "exception": false,
     "start_time": "2022-05-21T10:46:19.582619",
     "status": "completed"
    },
    "tags": []
   },
   "outputs": [],
   "source": [
    "# Enter the repo directory.\n",
    "%cd fastercnn-pytorch-training-pipeline/"
   ]
  },
  {
   "cell_type": "code",
   "execution_count": 0,
   "metadata": {
    "_kg_hide-output": true,
    "application/vnd.databricks.v1+cell": {
     "cellMetadata": {},
     "inputWidgets": {},
     "nuid": "1930deb0-1e2d-47ec-a25d-abcc16c6afcf",
     "showTitle": false,
     "title": ""
    },
    "execution": {
     "iopub.execute_input": "2023-01-07T00:46:21.360404Z",
     "iopub.status.busy": "2023-01-07T00:46:21.359354Z",
     "iopub.status.idle": "2023-01-07T00:48:24.283634Z",
     "shell.execute_reply": "2023-01-07T00:48:24.282482Z",
     "shell.execute_reply.started": "2023-01-07T00:46:21.360364Z"
    },
    "id": "VTHv38whkGt_",
    "outputId": "2df287c0-4686-4ec5-cd64-0c6f1b5f9745",
    "papermill": {
     "duration": 56.364637,
     "end_time": "2022-05-21T10:47:15.988054",
     "exception": false,
     "start_time": "2022-05-21T10:46:19.623417",
     "status": "completed"
    },
    "scrolled": true,
    "tags": []
   },
   "outputs": [],
   "source": [
    "# Install the Requirements\n",
    "!pip install -r requirements.txt"
   ]
  },
  {
   "cell_type": "markdown",
   "metadata": {
    "application/vnd.databricks.v1+cell": {
     "cellMetadata": {},
     "inputWidgets": {},
     "nuid": "df6ec4cc-6ae2-415e-aacb-37818bd8941b",
     "showTitle": false,
     "title": ""
    },
    "id": "NLXEx7TTiOQ_",
    "papermill": {
     "duration": 0.062974,
     "end_time": "2022-05-21T10:47:16.112886",
     "exception": false,
     "start_time": "2022-05-21T10:47:16.049912",
     "status": "completed"
    },
    "tags": []
   },
   "source": [
    "## Download the Dataset\n",
    "\n",
    "Here we are using the [Aquarium Dataset](https://public.roboflow.com/object-detection/aquarium) from Roboflow.\n",
    "\n",
    "Download the unzip the dataset to `custom_data` directory."
   ]
  },
  {
   "cell_type": "code",
   "execution_count": 0,
   "metadata": {
    "_kg_hide-output": true,
    "application/vnd.databricks.v1+cell": {
     "cellMetadata": {},
     "inputWidgets": {},
     "nuid": "9b7b0e71-5225-42da-a793-9e5c0cebeaae",
     "showTitle": false,
     "title": ""
    },
    "execution": {
     "iopub.execute_input": "2023-01-07T00:48:24.287349Z",
     "iopub.status.busy": "2023-01-07T00:48:24.286660Z",
     "iopub.status.idle": "2023-01-07T00:48:29.338883Z",
     "shell.execute_reply": "2023-01-07T00:48:29.337792Z",
     "shell.execute_reply.started": "2023-01-07T00:48:24.287308Z"
    },
    "id": "Ia1sHpUAiYcf",
    "outputId": "c10d213d-ad49-49ef-8c32-fddcb20fe388",
    "papermill": {
     "duration": 3.06395,
     "end_time": "2022-05-21T10:47:19.240264",
     "exception": false,
     "start_time": "2022-05-21T10:47:16.176314",
     "status": "completed"
    },
    "scrolled": true,
    "tags": []
   },
   "outputs": [],
   "source": [
    "!curl -L \"https://public.roboflow.com/ds/CNyGy97q45?key=eSpwiC1Ah7\" > roboflow.zip; unzip roboflow.zip -d custom_data; rm roboflow.zip"
   ]
  },
  {
   "cell_type": "markdown",
   "metadata": {
    "application/vnd.databricks.v1+cell": {
     "cellMetadata": {},
     "inputWidgets": {},
     "nuid": "ad238c15-fd5a-40d4-af63-4d469a64ef4f",
     "showTitle": false,
     "title": ""
    },
    "id": "r2OW1Xj5ij96",
    "papermill": {
     "duration": 0.072735,
     "end_time": "2022-05-21T10:47:19.383630",
     "exception": false,
     "start_time": "2022-05-21T10:47:19.310895",
     "status": "completed"
    },
    "tags": []
   },
   "source": [
    "## Create the Custom Dataset YAML File\n",
    "\n",
    "The YAML file should contain:\n",
    "* `TRAIN_DIR_IMAGES`: Path to the training images directory.\n",
    "* `TRAIN_DIR_LABELS`: Path to the training labels directory containing the XML files. Can be the same as `TRAIN_DIR_IMAGES`.\n",
    "* `VALID_DIR_IMAGES`: Path to the validation images directory.\n",
    "* `VALID_DIR_LABELS`: Path to the validation labels directory containing the XML files. Can be the same as `VALID_DIR_IMAGES`.\n",
    "* `CLASSES`: All the class names in the dataset along with the `__background__` class as the first class.\n",
    "* `NC`: The number of classes. This should be the number of classes in the dataset + the background class. If the number of classes in the dataset are 7, then `NC` should be 8.\n",
    "* `SAVE_VALID_PREDICTION_IMAGES`: Whether to save the prediction results from the validation loop or not."
   ]
  },
  {
   "cell_type": "code",
   "execution_count": 0,
   "metadata": {
    "application/vnd.databricks.v1+cell": {
     "cellMetadata": {},
     "inputWidgets": {},
     "nuid": "5bcd9c3f-4d8d-4438-a05b-ef33e0de49d0",
     "showTitle": false,
     "title": ""
    },
    "execution": {
     "iopub.execute_input": "2023-01-07T00:48:29.341272Z",
     "iopub.status.busy": "2023-01-07T00:48:29.340862Z",
     "iopub.status.idle": "2023-01-07T00:48:29.350505Z",
     "shell.execute_reply": "2023-01-07T00:48:29.348247Z",
     "shell.execute_reply.started": "2023-01-07T00:48:29.341233Z"
    },
    "id": "wc1raikijI5b",
    "outputId": "bdd2ceab-547d-42c8-b2cb-87d6a973e909",
    "papermill": {
     "duration": 0.089725,
     "end_time": "2022-05-21T10:47:19.549559",
     "exception": false,
     "start_time": "2022-05-21T10:47:19.459834",
     "status": "completed"
    },
    "tags": []
   },
   "outputs": [],
   "source": [
    "%%writefile data_configs/custom_data.yaml\n",
    "# Images and labels direcotry should be relative to train.py\n",
    "TRAIN_DIR_IMAGES: 'custom_data/train'\n",
    "TRAIN_DIR_LABELS: 'custom_data/train'\n",
    "VALID_DIR_IMAGES: 'custom_data/valid'\n",
    "VALID_DIR_LABELS: 'custom_data/valid'\n",
    "\n",
    "# Class names.\n",
    "CLASSES: [\n",
    "    '__background__',\n",
    "    'fish', 'jellyfish', 'penguin', \n",
    "    'shark', 'puffin', 'stingray',\n",
    "    'starfish'\n",
    "]\n",
    "\n",
    "# Number of classes (object classes + 1 for background class in Faster RCNN).\n",
    "NC: 8\n",
    "\n",
    "# Whether to save the predictions of the validation set while training.\n",
    "SAVE_VALID_PREDICTION_IMAGES: True"
   ]
  },
  {
   "cell_type": "markdown",
   "metadata": {
    "application/vnd.databricks.v1+cell": {
     "cellMetadata": {},
     "inputWidgets": {},
     "nuid": "f66b5e6b-572b-4fe8-bbdf-14c1d04aed23",
     "showTitle": false,
     "title": ""
    },
    "id": "-4iJEC0zjzE5",
    "papermill": {
     "duration": 0.073043,
     "end_time": "2022-05-21T10:47:19.698488",
     "exception": false,
     "start_time": "2022-05-21T10:47:19.625445",
     "status": "completed"
    },
    "tags": []
   },
   "source": [
    "## Training\n",
    "\n",
    "For this training example we use:\n",
    "* The official Faster RCNN ResNet50 FPN model.\n",
    "* Batch size of 8. You may change it according to the GPU memory available."
   ]
  },
  {
   "cell_type": "code",
   "execution_count": 0,
   "metadata": {
    "application/vnd.databricks.v1+cell": {
     "cellMetadata": {},
     "inputWidgets": {},
     "nuid": "0b56ad78-75e2-4b17-8015-bf353ea57051",
     "showTitle": false,
     "title": ""
    },
    "execution": {
     "iopub.execute_input": "2023-01-07T00:48:29.352919Z",
     "iopub.status.busy": "2023-01-07T00:48:29.352136Z",
     "iopub.status.idle": "2023-01-07T00:48:31.954017Z",
     "shell.execute_reply": "2023-01-07T00:48:31.952825Z",
     "shell.execute_reply.started": "2023-01-07T00:48:29.352882Z"
    }
   },
   "outputs": [],
   "source": [
    "!wandb disabled"
   ]
  },
  {
   "cell_type": "code",
   "execution_count": 0,
   "metadata": {
    "application/vnd.databricks.v1+cell": {
     "cellMetadata": {},
     "inputWidgets": {},
     "nuid": "b9a90eb0-da6e-4965-8ec8-6080e85e73d0",
     "showTitle": false,
     "title": ""
    },
    "execution": {
     "iopub.execute_input": "2023-01-07T00:48:31.956582Z",
     "iopub.status.busy": "2023-01-07T00:48:31.956157Z",
     "iopub.status.idle": "2023-01-07T00:59:05.806287Z",
     "shell.execute_reply": "2023-01-07T00:59:05.805074Z",
     "shell.execute_reply.started": "2023-01-07T00:48:31.956541Z"
    },
    "id": "e1BoCmE3j54d",
    "outputId": "cc50814e-4ba4-4f2c-ffd9-2ff92de82789",
    "papermill": {
     "duration": 2284.806289,
     "end_time": "2022-05-21T11:25:24.575367",
     "exception": false,
     "start_time": "2022-05-21T10:47:19.769078",
     "status": "completed"
    },
    "tags": []
   },
   "outputs": [],
   "source": [
    "# Train the Aquarium dataset for 30 epochs.\n",
    "!python train.py --config data_configs/custom_data.yaml --epochs 5 --model fasterrcnn_resnet50_fpn_v2 --project-name custom_training --batch-size 4 --no-mosaic"
   ]
  },
  {
   "cell_type": "markdown",
   "metadata": {
    "application/vnd.databricks.v1+cell": {
     "cellMetadata": {},
     "inputWidgets": {},
     "nuid": "3e7b81f5-fadd-4f8e-a34b-daeeb302304b",
     "showTitle": false,
     "title": ""
    },
    "id": "i0RP6pmDkB8Y",
    "papermill": {
     "duration": 0.190306,
     "end_time": "2022-05-21T11:25:24.946461",
     "exception": false,
     "start_time": "2022-05-21T11:25:24.756155",
     "status": "completed"
    },
    "tags": []
   },
   "source": [
    "## Visualize Validation Results\n",
    "\n",
    "Check out a few validation results from `outputs/training/custom_training` directory."
   ]
  },
  {
   "cell_type": "code",
   "execution_count": 0,
   "metadata": {
    "application/vnd.databricks.v1+cell": {
     "cellMetadata": {},
     "inputWidgets": {},
     "nuid": "011b1d0a-2997-4e06-aedc-e1a9e875a16e",
     "showTitle": false,
     "title": ""
    },
    "execution": {
     "iopub.execute_input": "2023-01-07T00:59:05.809090Z",
     "iopub.status.busy": "2023-01-07T00:59:05.808654Z",
     "iopub.status.idle": "2023-01-07T00:59:05.814594Z",
     "shell.execute_reply": "2023-01-07T00:59:05.813529Z",
     "shell.execute_reply.started": "2023-01-07T00:59:05.809046Z"
    },
    "papermill": {
     "duration": 0.184295,
     "end_time": "2022-05-21T11:25:25.322539",
     "exception": false,
     "start_time": "2022-05-21T11:25:25.138244",
     "status": "completed"
    },
    "tags": []
   },
   "outputs": [],
   "source": [
    "import matplotlib.pyplot as plt\n",
    "import glob as glob"
   ]
  },
  {
   "cell_type": "code",
   "execution_count": 0,
   "metadata": {
    "application/vnd.databricks.v1+cell": {
     "cellMetadata": {},
     "inputWidgets": {},
     "nuid": "e61a11d5-8381-456e-81c1-34074738e762",
     "showTitle": false,
     "title": ""
    },
    "execution": {
     "iopub.execute_input": "2023-01-07T00:59:05.816184Z",
     "iopub.status.busy": "2023-01-07T00:59:05.815627Z",
     "iopub.status.idle": "2023-01-07T00:59:06.508844Z",
     "shell.execute_reply": "2023-01-07T00:59:06.507994Z",
     "shell.execute_reply.started": "2023-01-07T00:59:05.816144Z"
    },
    "papermill": {
     "duration": 1.096289,
     "end_time": "2022-05-21T11:25:26.599425",
     "exception": false,
     "start_time": "2022-05-21T11:25:25.503136",
     "status": "completed"
    },
    "tags": []
   },
   "outputs": [],
   "source": [
    "results_dir_path = 'outputs/training/custom_training'\n",
    "valid_images = glob.glob(f\"{results_dir_path}/*.jpg\")\n",
    "\n",
    "for i in range(3):\n",
    "    plt.figure(figsize=(10, 7))\n",
    "    image = plt.imread(valid_images[i])\n",
    "    plt.imshow(image)\n",
    "    plt.axis('off')\n",
    "    plt.show()"
   ]
  },
  {
   "cell_type": "markdown",
   "metadata": {
    "application/vnd.databricks.v1+cell": {
     "cellMetadata": {},
     "inputWidgets": {},
     "nuid": "28111d41-14a6-43be-a399-eb897d4fc9a1",
     "showTitle": false,
     "title": ""
    },
    "papermill": {
     "duration": 0.773978,
     "end_time": "2022-05-21T11:25:27.586283",
     "exception": false,
     "start_time": "2022-05-21T11:25:26.812305",
     "status": "completed"
    },
    "tags": []
   },
   "source": [
    "## Check Out the Repo for Latest Updates\n",
    "\n",
    "https://github.com/sovit-123/fastercnn-pytorch-training-pipeline"
   ]
  },
  {
   "cell_type": "markdown",
   "metadata": {
    "application/vnd.databricks.v1+cell": {
     "cellMetadata": {},
     "inputWidgets": {},
     "nuid": "814cb191-4df9-4f9e-adba-be20a90da7bd",
     "showTitle": false,
     "title": ""
    },
    "papermill": {
     "duration": 0.202029,
     "end_time": "2022-05-21T11:25:27.989183",
     "exception": false,
     "start_time": "2022-05-21T11:25:27.787154",
     "status": "completed"
    },
    "tags": []
   },
   "source": [
    "## Evaluation"
   ]
  },
  {
   "cell_type": "code",
   "execution_count": 0,
   "metadata": {
    "application/vnd.databricks.v1+cell": {
     "cellMetadata": {},
     "inputWidgets": {},
     "nuid": "c51dafa8-5141-458e-a0ef-0dc21777e4f8",
     "showTitle": false,
     "title": ""
    },
    "execution": {
     "iopub.execute_input": "2023-01-07T01:07:59.909023Z",
     "iopub.status.busy": "2023-01-07T01:07:59.907707Z",
     "iopub.status.idle": "2023-01-07T01:08:25.897137Z",
     "shell.execute_reply": "2023-01-07T01:08:25.895887Z",
     "shell.execute_reply.started": "2023-01-07T01:07:59.908952Z"
    }
   },
   "outputs": [],
   "source": [
    "# No verbose mAP.\n",
    "!python eval.py --weights outputs/training/custom_training/best_model.pth --config data_configs/custom_data.yaml --model fasterrcnn_resnet50_fpn_v2"
   ]
  },
  {
   "cell_type": "code",
   "execution_count": 0,
   "metadata": {
    "application/vnd.databricks.v1+cell": {
     "cellMetadata": {},
     "inputWidgets": {},
     "nuid": "d9afd338-3f42-4a70-af75-2dec476f2f2b",
     "showTitle": false,
     "title": ""
    },
    "execution": {
     "iopub.execute_input": "2023-01-07T01:08:46.372249Z",
     "iopub.status.busy": "2023-01-07T01:08:46.371155Z",
     "iopub.status.idle": "2023-01-07T01:09:11.653954Z",
     "shell.execute_reply": "2023-01-07T01:09:11.652503Z",
     "shell.execute_reply.started": "2023-01-07T01:08:46.372209Z"
    }
   },
   "outputs": [],
   "source": [
    "# Verbose mAP.\n",
    "!python eval.py --weights outputs/training/custom_training/best_model.pth --config data_configs/custom_data.yaml --model fasterrcnn_resnet50_fpn_v2 --verbose"
   ]
  },
  {
   "cell_type": "code",
   "execution_count": 0,
   "metadata": {
    "application/vnd.databricks.v1+cell": {
     "cellMetadata": {},
     "inputWidgets": {},
     "nuid": "8277fea4-582e-4e7f-9457-0c6ae1a3a04b",
     "showTitle": false,
     "title": ""
    }
   },
   "outputs": [],
   "source": []
  }
 ],
 "metadata": {
  "application/vnd.databricks.v1+notebook": {
   "dashboards": [],
   "language": "python",
   "notebookMetadata": {},
   "notebookName": "custom_faster_rcnn_training_kaggle",
   "widgets": {}
  },
  "kernelspec": {
   "display_name": "Python 3 (ipykernel)",
   "language": "python",
   "name": "python3"
  },
  "language_info": {
   "codemirror_mode": {
    "name": "ipython",
    "version": 3
   },
   "file_extension": ".py",
   "mimetype": "text/x-python",
   "name": "python",
   "nbconvert_exporter": "python",
   "pygments_lexer": "ipython3",
   "version": "3.10.6"
  },
  "papermill": {
   "default_parameters": {},
   "duration": 2360.232725,
   "end_time": "2022-05-21T11:25:28.710848",
   "environment_variables": {},
   "exception": null,
   "input_path": "__notebook__.ipynb",
   "output_path": "__notebook__.ipynb",
   "parameters": {},
   "start_time": "2022-05-21T10:46:08.478123",
   "version": "2.3.4"
  }
 },
 "nbformat": 4,
 "nbformat_minor": 0
}
