{
 "cells": [
  {
   "cell_type": "markdown",
   "metadata": {
    "application/vnd.databricks.v1+cell": {
     "cellMetadata": {},
     "inputWidgets": {},
     "nuid": "8bdab782-1306-4e12-bcc1-0dd53878d6da",
     "showTitle": false,
     "title": ""
    },
    "id": "4sjTjpNnhwoA"
   },
   "source": [
    "## Clone the Repository"
   ]
  },
  {
   "cell_type": "code",
   "execution_count": 0,
   "metadata": {
    "application/vnd.databricks.v1+cell": {
     "cellMetadata": {},
     "inputWidgets": {},
     "nuid": "6808474d-bc81-4199-a2ca-3c1f74d6da50",
     "showTitle": false,
     "title": ""
    },
    "colab": {
     "base_uri": "https://localhost:8080/"
    },
    "id": "hqJgchTOh3Os",
    "outputId": "877fd054-ec1f-4f2a-b789-b3830512a9b6"
   },
   "outputs": [],
   "source": [
    "!git clone https://github.com/sovit-123/fastercnn-pytorch-training-pipeline.git"
   ]
  },
  {
   "cell_type": "code",
   "execution_count": 0,
   "metadata": {
    "application/vnd.databricks.v1+cell": {
     "cellMetadata": {},
     "inputWidgets": {},
     "nuid": "ad2dcf4e-3bd5-41d3-8272-7014261ddbb8",
     "showTitle": false,
     "title": ""
    },
    "colab": {
     "base_uri": "https://localhost:8080/"
    },
    "id": "ZrgajbVrh6x9",
    "outputId": "e176c03f-9dd1-456d-e5ab-b321d74ede2c"
   },
   "outputs": [],
   "source": [
    "# Enter the repo directory.\n",
    "%cd fastercnn-pytorch-training-pipeline/"
   ]
  },
  {
   "cell_type": "code",
   "execution_count": 0,
   "metadata": {
    "application/vnd.databricks.v1+cell": {
     "cellMetadata": {},
     "inputWidgets": {},
     "nuid": "fe9d7274-2a4e-4713-845c-d5d43b772f65",
     "showTitle": false,
     "title": ""
    },
    "colab": {
     "base_uri": "https://localhost:8080/"
    },
    "id": "VTHv38whkGt_",
    "outputId": "dc9ba2ab-fd90-428c-97c5-16099f6bffba"
   },
   "outputs": [],
   "source": [
    "# Install the Requirements\n",
    "!pip install -r requirements.txt"
   ]
  },
  {
   "cell_type": "markdown",
   "metadata": {
    "application/vnd.databricks.v1+cell": {
     "cellMetadata": {},
     "inputWidgets": {},
     "nuid": "87490e71-723d-4e9f-9675-3b74a5555fa0",
     "showTitle": false,
     "title": ""
    },
    "id": "NLXEx7TTiOQ_"
   },
   "source": [
    "## Download the Dataset\n",
    "\n",
    "Here we are using the [Aquarium Dataset](https://public.roboflow.com/object-detection/aquarium) from Roboflow.\n",
    "\n",
    "Download the unzip the dataset to `custom_data` directory."
   ]
  },
  {
   "cell_type": "code",
   "execution_count": 0,
   "metadata": {
    "application/vnd.databricks.v1+cell": {
     "cellMetadata": {},
     "inputWidgets": {},
     "nuid": "2e945d19-5738-4a7b-b4f4-ebe05b233a69",
     "showTitle": false,
     "title": ""
    },
    "colab": {
     "base_uri": "https://localhost:8080/"
    },
    "id": "Ia1sHpUAiYcf",
    "outputId": "be15c716-b8e9-4187-ca69-3400e65cf0a3"
   },
   "outputs": [],
   "source": [
    "!curl -L \"https://public.roboflow.com/ds/CNyGy97q45?key=eSpwiC1Ah7\" > roboflow.zip; unzip roboflow.zip -d custom_data; rm roboflow.zip"
   ]
  },
  {
   "cell_type": "markdown",
   "metadata": {
    "application/vnd.databricks.v1+cell": {
     "cellMetadata": {},
     "inputWidgets": {},
     "nuid": "3098eedf-154f-4ee8-81f7-42e634adf46b",
     "showTitle": false,
     "title": ""
    },
    "id": "r2OW1Xj5ij96"
   },
   "source": [
    "## Create the Custom Dataset YAML File."
   ]
  },
  {
   "cell_type": "code",
   "execution_count": 0,
   "metadata": {
    "application/vnd.databricks.v1+cell": {
     "cellMetadata": {},
     "inputWidgets": {},
     "nuid": "1ad8c573-cb8f-4c47-b4fa-ba9bc2ffd763",
     "showTitle": false,
     "title": ""
    },
    "colab": {
     "base_uri": "https://localhost:8080/"
    },
    "id": "wc1raikijI5b",
    "outputId": "12ab7691-eb7f-4f9c-cb52-75628b0f31a3"
   },
   "outputs": [],
   "source": [
    "%%writefile data_configs/custom_data.yaml\n",
    "# Images and labels direcotry should be relative to train.py\n",
    "TRAIN_DIR_IMAGES: 'custom_data/train'\n",
    "TRAIN_DIR_LABELS: 'custom_data/train'\n",
    "VALID_DIR_IMAGES: 'custom_data/valid'\n",
    "VALID_DIR_LABELS: 'custom_data/valid'\n",
    "\n",
    "# Class names.\n",
    "CLASSES: [\n",
    "    '__background__',\n",
    "    'fish', 'jellyfish', 'penguin', \n",
    "    'shark', 'puffin', 'stingray',\n",
    "    'starfish'\n",
    "]\n",
    "\n",
    "# Number of classes (object classes + 1 for background class in Faster RCNN).\n",
    "NC: 8\n",
    "\n",
    "# Whether to save the predictions of the validation set while training.\n",
    "SAVE_VALID_PREDICTION_IMAGES: True"
   ]
  },
  {
   "cell_type": "markdown",
   "metadata": {
    "application/vnd.databricks.v1+cell": {
     "cellMetadata": {},
     "inputWidgets": {},
     "nuid": "9e1c7286-7aea-4d7e-9710-f3f0cd145e56",
     "showTitle": false,
     "title": ""
    },
    "id": "-4iJEC0zjzE5"
   },
   "source": [
    "## Training"
   ]
  },
  {
   "cell_type": "code",
   "execution_count": 0,
   "metadata": {
    "application/vnd.databricks.v1+cell": {
     "cellMetadata": {},
     "inputWidgets": {},
     "nuid": "02af3457-3dfc-4d94-9048-c6f6637249bf",
     "showTitle": false,
     "title": ""
    },
    "colab": {
     "base_uri": "https://localhost:8080/"
    },
    "id": "3juf3R0BzE-w",
    "outputId": "9b2f4c14-c517-4c1c-bd16-16a08673d2bb"
   },
   "outputs": [],
   "source": [
    "!wandb disabled"
   ]
  },
  {
   "cell_type": "code",
   "execution_count": 0,
   "metadata": {
    "application/vnd.databricks.v1+cell": {
     "cellMetadata": {},
     "inputWidgets": {},
     "nuid": "9d6ab864-26e4-47f4-b079-8c6f1aa77573",
     "showTitle": false,
     "title": ""
    },
    "colab": {
     "base_uri": "https://localhost:8080/"
    },
    "id": "e1BoCmE3j54d",
    "outputId": "63b6466d-c559-43bd-c557-7f3d40b29fa3"
   },
   "outputs": [],
   "source": [
    "!python train.py --config data_configs/custom_data.yaml --epochs 5 --model fasterrcnn_resnet50_fpn_v2 --project-name custom_training --batch-size 2 --no-mosaic"
   ]
  },
  {
   "cell_type": "markdown",
   "metadata": {
    "application/vnd.databricks.v1+cell": {
     "cellMetadata": {},
     "inputWidgets": {},
     "nuid": "94059ec9-0481-4cb0-9abd-5556cdbbce27",
     "showTitle": false,
     "title": ""
    },
    "id": "i0RP6pmDkB8Y"
   },
   "source": [
    "## Visualize Validation Results"
   ]
  },
  {
   "cell_type": "code",
   "execution_count": 0,
   "metadata": {
    "application/vnd.databricks.v1+cell": {
     "cellMetadata": {},
     "inputWidgets": {},
     "nuid": "6f49caab-7296-4a52-a63e-d2209300e375",
     "showTitle": false,
     "title": ""
    },
    "id": "5MLvgLUbJudR"
   },
   "outputs": [],
   "source": [
    "import matplotlib.pyplot as plt\n",
    "import glob as glob"
   ]
  },
  {
   "cell_type": "code",
   "execution_count": 0,
   "metadata": {
    "application/vnd.databricks.v1+cell": {
     "cellMetadata": {},
     "inputWidgets": {},
     "nuid": "4cc4ce2f-4a22-4ff4-a582-461e23978fb3",
     "showTitle": false,
     "title": ""
    },
    "colab": {
     "base_uri": "https://localhost:8080/",
     "height": 805
    },
    "id": "_VwkIcbzJxDF",
    "outputId": "f8a6d661-1cb6-4a95-bd39-901d476acb70"
   },
   "outputs": [],
   "source": [
    "results_dir_path = '/content/fastercnn-pytorch-training-pipeline/outputs/training/custom_training'\n",
    "valid_images = glob.glob(f\"{results_dir_path}/*.jpg\")\n",
    "\n",
    "for i in range(2):\n",
    "    plt.figure(figsize=(10, 7))\n",
    "    image = plt.imread(valid_images[i])\n",
    "    plt.imshow(image)\n",
    "    plt.axis('off')\n",
    "    plt.show()"
   ]
  },
  {
   "cell_type": "markdown",
   "metadata": {
    "application/vnd.databricks.v1+cell": {
     "cellMetadata": {},
     "inputWidgets": {},
     "nuid": "7235cca4-9ee4-4d0c-bf1d-15f670a2d79e",
     "showTitle": false,
     "title": ""
    },
    "id": "3Pk7SHEaLJha"
   },
   "source": [
    "## Evaluation"
   ]
  },
  {
   "cell_type": "code",
   "execution_count": 0,
   "metadata": {
    "application/vnd.databricks.v1+cell": {
     "cellMetadata": {},
     "inputWidgets": {},
     "nuid": "ffb5afb2-494b-4650-83cf-e279c29da076",
     "showTitle": false,
     "title": ""
    },
    "colab": {
     "base_uri": "https://localhost:8080/"
    },
    "id": "AsfiPcc94glV",
    "outputId": "92292a0a-ff09-4ee2-e7df-5a0da2319014"
   },
   "outputs": [],
   "source": [
    "# No verbose mAP.\n",
    "!python eval.py --weights outputs/training/custom_training/best_model.pth --config data_configs/custom_data.yaml --model fasterrcnn_resnet50_fpn_v2"
   ]
  },
  {
   "cell_type": "code",
   "execution_count": 0,
   "metadata": {
    "application/vnd.databricks.v1+cell": {
     "cellMetadata": {},
     "inputWidgets": {},
     "nuid": "5dcaa217-226e-42e9-a4c8-97b9d4eb3142",
     "showTitle": false,
     "title": ""
    },
    "colab": {
     "base_uri": "https://localhost:8080/"
    },
    "id": "krEwTEX-4i3v",
    "outputId": "731d01d6-7546-4b08-a748-7d7cc2380177"
   },
   "outputs": [],
   "source": [
    "# Verbose mAP.\n",
    "!python eval.py --weights outputs/training/custom_training/best_model.pth --config data_configs/custom_data.yaml --model fasterrcnn_resnet50_fpn_v2 --verbose"
   ]
  },
  {
   "cell_type": "code",
   "execution_count": 0,
   "metadata": {
    "application/vnd.databricks.v1+cell": {
     "cellMetadata": {},
     "inputWidgets": {},
     "nuid": "fa419d2b-3d3a-4e70-a110-9cedcd574e6d",
     "showTitle": false,
     "title": ""
    },
    "id": "Njd7iV584mS7"
   },
   "outputs": [],
   "source": []
  }
 ],
 "metadata": {
  "accelerator": "GPU",
  "application/vnd.databricks.v1+notebook": {
   "dashboards": [],
   "language": "python",
   "notebookMetadata": {},
   "notebookName": "custom_faster_rcnn_training_colab",
   "widgets": {}
  },
  "colab": {
   "provenance": []
  },
  "kernelspec": {
   "display_name": "Python 3 (ipykernel)",
   "language": "python",
   "name": "python3"
  },
  "language_info": {
   "codemirror_mode": {
    "name": "ipython",
    "version": 3
   },
   "file_extension": ".py",
   "mimetype": "text/x-python",
   "name": "python",
   "nbconvert_exporter": "python",
   "pygments_lexer": "ipython3",
   "version": "3.10.6"
  }
 },
 "nbformat": 4,
 "nbformat_minor": 0
}
